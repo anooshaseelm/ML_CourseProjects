{
 "cells": [
  {
   "cell_type": "markdown",
   "metadata": {},
   "source": [
    "# CSE474/574 - Programming Assignment 2"
   ]
  },
  {
   "cell_type": "markdown",
   "metadata": {},
   "source": [
    "## Part 3 - Image Classification with Deep[er] neural networks\n",
    "\n",
    "For this part, we will use `keras` with a `tensorflow` backend, instead of directly using `tensorflow`, as in Part 1. See [here](https://anaconda.org/conda-forge/keras) for installation instructions."
   ]
  },
  {
   "cell_type": "code",
   "execution_count": 1,
   "metadata": {},
   "outputs": [],
   "source": [
    "# !/usr/bin/env python3"
   ]
  },
  {
   "cell_type": "code",
   "execution_count": 2,
   "metadata": {},
   "outputs": [],
   "source": [
    "from __future__ import print_function\n",
    "from keras.models import Sequential\n",
    "from keras.layers import Dense, Activation\n",
    "\n",
    "import numpy as np\n",
    "import random as rd\n",
    "import time\n",
    "import pickle\n",
    "import os\n",
    "from PIL import Image\n",
    "#os.environ[\"CUDA_VISIBLE_DEVICES\"]=\"1\"\n",
    "import matplotlib.pyplot as plt\n",
    "%matplotlib inline"
   ]
  },
  {
   "cell_type": "code",
   "execution_count": 3,
   "metadata": {},
   "outputs": [],
   "source": [
    "classes = ['apple', 'airplane', 'basketball', 'axe', 'banana', 'horse', 'arm', 'alarm clock', 'ant', 'bed']"
   ]
  },
  {
   "cell_type": "code",
   "execution_count": 4,
   "metadata": {},
   "outputs": [],
   "source": [
    "# load data\n",
    "train_data,train_label,test_data,test_label = pickle.load(open('AI_quick_draw_sm.pickle','rb'))"
   ]
  },
  {
   "cell_type": "code",
   "execution_count": 5,
   "metadata": {},
   "outputs": [],
   "source": [
    "# for some macosx installations, conflicting copies of mpilib causes trouble with tensorflow.\n",
    "# use the following two lines to resolve that issue\n",
    "import os\n",
    "os.environ['KMP_DUPLICATE_LIB_OK']='True'"
   ]
  },
  {
   "cell_type": "code",
   "execution_count": 6,
   "metadata": {},
   "outputs": [],
   "source": [
    "n_classes = len(np.unique(train_label))\n",
    "# convert labels to 0-1 hot encoding\n",
    "train_label_01 = np.zeros((train_label.shape[0], n_classes))\n",
    "a = np.arange(train_label.shape[0], dtype=np.int64)\n",
    "b = np.array(train_label, dtype=np.int64).reshape((train_label.shape[0],))\n",
    "train_label_01[a, b] = 1\n",
    "\n",
    "test_label_01 = np.zeros((test_label.shape[0], n_classes))\n",
    "c = np.arange(test_label.shape[0], dtype=np.int64)\n",
    "d = np.array(test_label, dtype=np.int64).reshape((test_label.shape[0],))\n",
    "test_label_01[c, d] = 1"
   ]
  },
  {
   "cell_type": "markdown",
   "metadata": {},
   "source": [
    "**WARNING**: This cell will take a significantly long time to run"
   ]
  },
  {
   "cell_type": "code",
   "execution_count": 59,
   "metadata": {
    "scrolled": true
   },
   "outputs": [],
   "source": [
    "model = Sequential()\n",
    "M = 80\n",
    "L = 2\n",
    "activation = 'tanh' # other options 'relu', 'tanh'\n",
    "# this is the first hidden layer\n",
    "model.add(Dense(M, activation=activation, input_dim=train_data.shape[1]))\n",
    "# you can add more Dense layers here\n",
    "for l in range(1,L):\n",
    "    model.add(Dense(M, activation=activation, input_dim=M))\n",
    "# this is the output layer\n",
    "model.add(Dense(n_classes, activation='softmax'))\n",
    "model.compile(optimizer='rmsprop',\n",
    "              loss='categorical_crossentropy',\n",
    "              metrics=['accuracy'])"
   ]
  },
  {
   "cell_type": "code",
   "execution_count": 60,
   "metadata": {},
   "outputs": [
    {
     "name": "stdout",
     "output_type": "stream",
     "text": [
      "Model: \"sequential_13\"\n",
      "_________________________________________________________________\n",
      "Layer (type)                 Output Shape              Param #   \n",
      "=================================================================\n",
      "dense_46 (Dense)             (None, 80)                62800     \n",
      "_________________________________________________________________\n",
      "dense_47 (Dense)             (None, 80)                6480      \n",
      "_________________________________________________________________\n",
      "dense_48 (Dense)             (None, 10)                810       \n",
      "=================================================================\n",
      "Total params: 70,090\n",
      "Trainable params: 70,090\n",
      "Non-trainable params: 0\n",
      "_________________________________________________________________\n"
     ]
    }
   ],
   "source": [
    "model.summary()"
   ]
  },
  {
   "cell_type": "code",
   "execution_count": 61,
   "metadata": {},
   "outputs": [
    {
     "name": "stdout",
     "output_type": "stream",
     "text": [
      "Epoch 1/50\n",
      "782/782 [==============================] - 2s 935us/step - loss: 1.6174 - accuracy: 0.4474\n",
      "Epoch 2/50\n",
      "782/782 [==============================] - 1s 913us/step - loss: 1.1818 - accuracy: 0.6099\n",
      "Epoch 3/50\n",
      "782/782 [==============================] - 1s 902us/step - loss: 1.0528 - accuracy: 0.6595\n",
      "Epoch 4/50\n",
      "782/782 [==============================] - 1s 896us/step - loss: 1.0040 - accuracy: 0.6743\n",
      "Epoch 5/50\n",
      "782/782 [==============================] - 1s 891us/step - loss: 0.9743 - accuracy: 0.6837\n",
      "Epoch 6/50\n",
      "782/782 [==============================] - 1s 897us/step - loss: 0.9537 - accuracy: 0.6898\n",
      "Epoch 7/50\n",
      "782/782 [==============================] - 1s 891us/step - loss: 0.9182 - accuracy: 0.7029\n",
      "Epoch 8/50\n",
      "782/782 [==============================] - 1s 890us/step - loss: 0.8982 - accuracy: 0.7113\n",
      "Epoch 9/50\n",
      "782/782 [==============================] - 1s 892us/step - loss: 0.8687 - accuracy: 0.7228\n",
      "Epoch 10/50\n",
      "782/782 [==============================] - 1s 904us/step - loss: 0.8703 - accuracy: 0.7164\n",
      "Epoch 11/50\n",
      "782/782 [==============================] - 1s 937us/step - loss: 0.8464 - accuracy: 0.7289\n",
      "Epoch 12/50\n",
      "782/782 [==============================] - 1s 902us/step - loss: 0.8292 - accuracy: 0.7330\n",
      "Epoch 13/50\n",
      "782/782 [==============================] - 1s 903us/step - loss: 0.8232 - accuracy: 0.7386\n",
      "Epoch 14/50\n",
      "782/782 [==============================] - 1s 906us/step - loss: 0.8246 - accuracy: 0.7379\n",
      "Epoch 15/50\n",
      "782/782 [==============================] - 1s 907us/step - loss: 0.8178 - accuracy: 0.7400\n",
      "Epoch 16/50\n",
      "782/782 [==============================] - 1s 922us/step - loss: 0.8118 - accuracy: 0.7406\n",
      "Epoch 17/50\n",
      "782/782 [==============================] - 1s 1ms/step - loss: 0.7949 - accuracy: 0.7485\n",
      "Epoch 18/50\n",
      "782/782 [==============================] - 1s 895us/step - loss: 0.7819 - accuracy: 0.7501\n",
      "Epoch 19/50\n",
      "782/782 [==============================] - 1s 893us/step - loss: 0.7958 - accuracy: 0.7431\n",
      "Epoch 20/50\n",
      "782/782 [==============================] - 1s 901us/step - loss: 0.7819 - accuracy: 0.7505\n",
      "Epoch 21/50\n",
      "782/782 [==============================] - 1s 968us/step - loss: 0.7812 - accuracy: 0.7498\n",
      "Epoch 22/50\n",
      "782/782 [==============================] - 1s 897us/step - loss: 0.7800 - accuracy: 0.7521\n",
      "Epoch 23/50\n",
      "782/782 [==============================] - 1s 919us/step - loss: 0.7719 - accuracy: 0.7545\n",
      "Epoch 24/50\n",
      "782/782 [==============================] - 1s 904us/step - loss: 0.7604 - accuracy: 0.7599\n",
      "Epoch 25/50\n",
      "782/782 [==============================] - 1s 902us/step - loss: 0.7495 - accuracy: 0.7597\n",
      "Epoch 26/50\n",
      "782/782 [==============================] - 1s 934us/step - loss: 0.7413 - accuracy: 0.7636\n",
      "Epoch 27/50\n",
      "782/782 [==============================] - 1s 900us/step - loss: 0.7364 - accuracy: 0.7655\n",
      "Epoch 28/50\n",
      "782/782 [==============================] - 1s 899us/step - loss: 0.7478 - accuracy: 0.7638\n",
      "Epoch 29/50\n",
      "782/782 [==============================] - 1s 1ms/step - loss: 0.7385 - accuracy: 0.7618\n",
      "Epoch 30/50\n",
      "782/782 [==============================] - 1s 1ms/step - loss: 0.7277 - accuracy: 0.7644\n",
      "Epoch 31/50\n",
      "782/782 [==============================] - 1s 936us/step - loss: 0.7246 - accuracy: 0.7683\n",
      "Epoch 32/50\n",
      "782/782 [==============================] - 1s 884us/step - loss: 0.7230 - accuracy: 0.7654\n",
      "Epoch 33/50\n",
      "782/782 [==============================] - 1s 861us/step - loss: 0.7195 - accuracy: 0.7705\n",
      "Epoch 34/50\n",
      "782/782 [==============================] - 1s 896us/step - loss: 0.7168 - accuracy: 0.7706\n",
      "Epoch 35/50\n",
      "782/782 [==============================] - 1s 900us/step - loss: 0.7183 - accuracy: 0.7714\n",
      "Epoch 36/50\n",
      "782/782 [==============================] - 1s 919us/step - loss: 0.7089 - accuracy: 0.7746\n",
      "Epoch 37/50\n",
      "782/782 [==============================] - 1s 911us/step - loss: 0.7174 - accuracy: 0.7717\n",
      "Epoch 38/50\n",
      "782/782 [==============================] - 1s 913us/step - loss: 0.6963 - accuracy: 0.7818\n",
      "Epoch 39/50\n",
      "782/782 [==============================] - 1s 935us/step - loss: 0.7027 - accuracy: 0.7800\n",
      "Epoch 40/50\n",
      "782/782 [==============================] - 1s 909us/step - loss: 0.6880 - accuracy: 0.7797\n",
      "Epoch 41/50\n",
      "782/782 [==============================] - 1s 909us/step - loss: 0.6748 - accuracy: 0.7858\n",
      "Epoch 42/50\n",
      "782/782 [==============================] - 1s 924us/step - loss: 0.6916 - accuracy: 0.7800\n",
      "Epoch 43/50\n",
      "782/782 [==============================] - 1s 910us/step - loss: 0.6805 - accuracy: 0.7845\n",
      "Epoch 44/50\n",
      "782/782 [==============================] - 1s 912us/step - loss: 0.6685 - accuracy: 0.7867\n",
      "Epoch 45/50\n",
      "782/782 [==============================] - 1s 912us/step - loss: 0.6645 - accuracy: 0.7886\n",
      "Epoch 46/50\n",
      "782/782 [==============================] - 1s 925us/step - loss: 0.6792 - accuracy: 0.7847\n",
      "Epoch 47/50\n",
      "782/782 [==============================] - 1s 886us/step - loss: 0.6770 - accuracy: 0.7828\n",
      "Epoch 48/50\n",
      "782/782 [==============================] - 1s 882us/step - loss: 0.6691 - accuracy: 0.7887\n",
      "Epoch 49/50\n",
      "782/782 [==============================] - 1s 881us/step - loss: 0.6597 - accuracy: 0.7891\n",
      "Epoch 50/50\n",
      "782/782 [==============================] - 1s 911us/step - loss: 0.6677 - accuracy: 0.7864\n",
      "Training completed in 37.39 seconds.\n"
     ]
    }
   ],
   "source": [
    "st = time.time()\n",
    "model.fit(train_data, train_label_01, epochs=50, batch_size=32)\n",
    "en = time.time()\n",
    "print(\"Training completed in {:.2f} seconds.\".format(en-st))"
   ]
  },
  {
   "cell_type": "code",
   "execution_count": 62,
   "metadata": {},
   "outputs": [
    {
     "name": "stdout",
     "output_type": "stream",
     "text": [
      "Training set Accuracy: 79.15%\n",
      "Testing set Accuracy : 75.30%\n"
     ]
    }
   ],
   "source": [
    "train_predicted = model.predict_classes(train_data)\n",
    "acc_train = np.where(train_label == train_predicted)[0].shape[0]/train_data.shape[0]\n",
    "print('Training set Accuracy: {:.2f}%'.format(100 * acc_train))\n",
    "\n",
    "test_predicted = model.predict_classes(test_data)\n",
    "acc_test = np.where(test_label == test_predicted)[0].shape[0]/test_data.shape[0]\n",
    "print('Testing set Accuracy : {:.2f}%'.format(100 * acc_test))"
   ]
  },
  {
   "cell_type": "code",
   "execution_count": 68,
   "metadata": {},
   "outputs": [
    {
     "data": {
      "image/png": "[encoded data removed]",
      "text/plain": [
       "<Figure size 432x288 with 1 Axes>"
      ]
     },
     "metadata": {
      "needs_background": "light"
     },
     "output_type": "display_data"
    }
   ],
   "source": [
    "train_errors_lambda = [76.53,78.44,78.15,76.91,75.87]\n",
    "test_errors_lambda = [73.31,75.30,74.57,73.72,73.41]\n",
    "\n",
    "\n",
    "n_hidden_range = np.arange(start=1, stop=6, step=1)\n",
    "\n",
    "plt.plot(n_hidden_range, train_errors_lambda, \n",
    "     label = \"Training Accuracy\", color = 'b',marker='o')\n",
    "plt.plot(n_hidden_range, test_errors_lambda,\n",
    "   label = \"Testing Accuracy\", color = 'g',marker='o')\n",
    "  \n",
    "# Creating the plot\n",
    "plt.title(\"Accuracy as a function of L\")\n",
    "plt.xlabel(\"Number of hidden layers\")\n",
    "plt.ylabel(\"Accuracy\")\n",
    "plt.tight_layout()\n",
    "plt.legend(loc = 'best')\n",
    "plt.show()"
   ]
  },
  {
   "cell_type": "code",
   "execution_count": 74,
   "metadata": {},
   "outputs": [
    {
     "data": {
      "image/png": "[encoded data removed]",
      "text/plain": [
       "<Figure size 432x288 with 1 Axes>"
      ]
     },
     "metadata": {
      "needs_background": "light"
     },
     "output_type": "display_data"
    }
   ],
   "source": [
    "training_time = [39.02,44.64,39.77,43.92,50.03]\n",
    "\n",
    "plt.plot(n_hidden_range, training_time, \n",
    "     label = \"Training time\", color = 'r',marker='o')\n",
    "\n",
    "  \n",
    "# Creating the plot\n",
    "# plt.figure(figsize=(3, 3))\n",
    "plt.title(\"Training time as a function of L\")\n",
    "plt.xlabel(\"Number of Hidden Layers\")\n",
    "plt.ylabel(\"Training time(in sec)\")\n",
    "plt.tight_layout()\n",
    "plt.legend(loc = 'best')\n",
    "plt.show()"
   ]
  },
  {
   "cell_type": "code",
   "execution_count": null,
   "metadata": {},
   "outputs": [],
   "source": []
  }
 ],
 "metadata": {
  "kernelspec": {
   "display_name": "Python 3",
   "language": "python",
   "name": "python3"
  },
  "language_info": {
   "codemirror_mode": {
    "name": "ipython",
    "version": 3
   },
   "file_extension": ".py",
   "mimetype": "text/x-python",
   "name": "python",
   "nbconvert_exporter": "python",
   "pygments_lexer": "ipython3",
   "version": "3.8.8"
  }
 },
 "nbformat": 4,
 "nbformat_minor": 4
}
